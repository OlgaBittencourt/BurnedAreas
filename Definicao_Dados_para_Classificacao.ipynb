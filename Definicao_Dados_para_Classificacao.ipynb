{
 "cells": [
  {
   "cell_type": "markdown",
   "metadata": {},
   "source": [
    "<h1>Definição de dados utilizados na Classificação de Cicatrizes de Queima</h1>\n",
    "\n",
    "<i>Objetivo:</i> Apresentar dados relevantes para realizar a classificação, formatos de entrada e saída e suas definiçoes\n",
    "\n",
    "Versão: 03/Maio/2018 - Olga Bittencourt"
   ]
  },
  {
   "cell_type": "markdown",
   "metadata": {},
   "source": [
    "<h1>Passo 1 - Dados de entrada </h1>\n",
    "\n",
    "<h2> Áreas Monitoradas </h2>\n",
    "\n",
    "Neste trabalho foram utilizados os dados de desenvolvimento do projeto Queimadas validados por especialistas da área. Eles são divididos por órbita-ponto e possuem resolução de 30m. \n",
    "\n",
    "A figura abaixo ilustra a área de abrangência do projeto.\n",
    "\n",
    "<table border=\"1\">\n",
    "   <tr><td>Área de abragência para resolução </td></tr>\n",
    "   <tr><td><img src=\"./imagens_auxiliares/area_abrangencia_queimadas.png\" alt=\"Imagem das órbitas-ponto cobertas pelo projeto Queimadas na resolução de 30m.\" style=\"width: 400px;\"/></td></tr>\n",
    "</table>\n",
    "\n",
    "Mais detalhes podem ser encontrados na página www.inpe.br/queimadas e nas definições do projeto. "
   ]
  },
  {
   "cell_type": "markdown",
   "metadata": {
    "collapsed": true
   },
   "source": [
    "<h2> Áreas Queimadas </h2>\n",
    "\n",
    "Neste exemplo foram utilizados os dados da área órbita-ponto 223_067 do ano de 2017 versão disponibilizada em novembro/2017. Os dados podem ser obtidos na página do projeto, que disponibiliza as versões mais recentes já avaliadas.\n",
    "\n",
    "A tabela descreve um resumo dos dados de entrada:\n",
    "\n",
    "<table border=\"1\">\n",
    "   <tr><td> ano </td> <td> arquivos </td> <td> formato </td> <td> tamanho  </td>  <td> polígonos </td> </tr>\n",
    "   <tr><td>2017</td> <td> 10 datas </td> <td> shapefile </td> <td> 170 Mb </td>  <td>   45.893  </td> </tr>\n",
    "</table>\n",
    "\n",
    "São elas: 16/mar, 1/abr, 5/mai, 19/mai, 20/jun, 6/jul, 22/jul, 23/ago, 24/set, 10/out\n",
    "\n",
    "<h2> Focos de Incêndio </h2>\n",
    "\n",
    "Esses dados foram obtidos na página do projeto. Foram utilizados filtros de periodo de 01/03/2017 a 10/10/2017 para os satélites: TERRA, AQUA e NPP-Suomi.\n",
    "\n",
    "A tabela descreve um resumo dos dados de entrada:\n",
    "\n",
    "<table border=\"1\">\n",
    "   <tr><td> ano </td> <td> data inicial </td> <td> data final </td><td> formato </td><td> tamanho </td> <td> pontos </td> </tr>\n",
    "   <tr><td>2017</td> <td> 01/03/2017 </td> <td> 10/10/2017 </td> <td> shapefile </td><td> 32 Mb </td>  <td>  45624  </td> </tr>\n",
    "</table>\n",
    "\n",
    "Nesse trabalho não utilizamos os satélites NOAA, METOP, GOES-13, MSG-03 e GOES-16, por possuirem resolução espacial maior que 1000m.\n",
    "\n",
    "<h2> Precipitação Mensal Média </h2>\n",
    "\n",
    "Dados da precipitação mensal média para a área 223_067. Um arquivo txt contendo os seguintes dados:\n",
    "\n",
    "<table border=\"1\">\n",
    "   <tr><td> mes </td> <td> jan </td> <td> fev </td><td> mar </td><td> abr </td> <td> mai </td> <td> jun </td> \n",
    "       <td> jul </td> <td> ago </td> <td> set </td><td> out </td><td> nov </td> <td> dez </td></tr>\n",
    "   <tr><td> valor(mm) </td> <td> 296 </td> <td> 290 </td><td> 271 </td><td> 164 </td> <td> 49 </td> <td> 7 </td> \n",
    "       <td> 4 </td> <td> 11 </td> <td> 65 </td><td> 162 </td><td> 225 </td> <td> 292 </td></tr>\n",
    "</table>\n",
    "\n"
   ]
  },
  {
   "cell_type": "markdown",
   "metadata": {},
   "source": [
    "<h2>Área de estudo 223_067</h2>\n",
    "\n",
    "Ilustração da área correspondente à órbita-ponto 223_067 gerada na passagem do LandSat em 10/10/2017\n",
    "\n",
    "<table border=\"1\">\n",
    "   <tr><td>Imagem RGB</td> <td> Cicatrizes detectadas</td> <td> Focos detectados </td><td> Cicatrizes com focos </td></tr>\n",
    "   <tr><td><img src=\"./imagens_auxiliares/LC08_L1TP_223067_20170924_20171013_01_T1.jpg\" alt=\"Imagem da órbita-ponto 223_067 gerada na passagem do LandSat em 25/09/2017\" style=\"width: 250px;\"/></td>\n",
    "   <td> <img src=\"./imagens_auxiliares/cicatrizes_10_out_223_067.png\" alt=\"Cicatrizes detectadas\" style=\"width: 300px;\"/> </td> \n",
    "   <td> <img src=\"./imagens_auxiliares/focos_10_set_10_out_223_067.png\" alt=\"Focos\" style=\"width: 300px;\"/> </td> \n",
    "   <td> <img src=\"./imagens_auxiliares/cicatrizes_com_focos_10_out_223_067.png\" alt=\"Cicatrizes com focos\" style=\"width: 300px;\"/> </td> </tr>\n",
    "</table>\n"
   ]
  },
  {
   "cell_type": "markdown",
   "metadata": {},
   "source": [
    "<h1> Dados que serão utilizados na fase de classificação </h1>\n",
    "\n",
    "A fase de classificação será realizada a partir de polígonos que representam as áreas queimadas e seus atributos, que devem conter:\n",
    "\n",
    "- medianas das bandas espectrais\n",
    "- area queimada \n",
    "- contagem de focos\n",
    "- contagem de adjacencias\n",
    "- precipitacao mensal histórica média (considerada para cada orbita-ponto nesse caso)\n",
    "- indices de vegetacao\n",
    "\n",
    "\n"
   ]
  },
  {
   "cell_type": "markdown",
   "metadata": {},
   "source": [
    "<h2> Exemplo do arquivo de cicatrizes recuperado para o dado de 2017 </h2>\n",
    "\n",
    "A figura abaixo ilustra o exemplo de um arquivo com informações de queimadas.\n",
    "\n",
    "<table border=\"1\">\n",
    "   <tr><td>Área de abragência para resolução </td></tr>\n",
    "   <tr><td><img src=\"./imagens_auxiliares/exemplo_atributos_arquivo_shapefile.png\" alt=\"Exemplo de atributos\" style=\"width: 1000px;\"/></td></tr>\n",
    "</table>\n",
    "\n",
    "Alguns dados são mostrados na tabela abaixo. Nem todos esses atributos aparecem em todas as versões, mas mostramos aqui um exemplo:\n",
    "\n",
    "<table border=\"1\">\n",
    "<tr><td>Nome do atributo </td> <td> Descrição do atributo </td> <td> Exemplo </td></tr>\n",
    "<tr><td>id</td> <td> identificador da cicatriz</td> <td> 2433552</td></tr>\n",
    "<tr><td>cod_sat</td> <td> identificador do satelite Landsat</td> 8 <td> </td></tr>\n",
    "<tr><td>cena_id</td> <td> identificador da imagem enviada pelo satelite  </td> <td>LC82210672017189LGN00  </td></tr>\n",
    "<tr><td>nome_arq</td> <td> nome do arquivo que identifica a passagem do satelite </td> LC82210672017189LGN00.tar.gz<td> </td></tr>\n",
    "<tr><td>data_pas</td> <td> data de passagem do satelite - fomato yyyy-mm-dd para dados de 2015 e yyyy/mm/dd para dados de 2016</td> <td> 2017/09/24 00:00:00.000</td></tr>\n",
    "<tr><td>orb_pto</td> <td> identificador da orbita_ponto </td>  <td> 221_067</td></tr>\n",
    "<tr><td>area_ha</td> <td> valor da área da cicatriz observada</td> <td> 0.631253913851071</td></tr>\n",
    "<tr><td>perim</td> <td> valor do perimetro da cicatriz observada</td> <td> 360</td></tr>\n",
    "<tr><td>versao</td> <td> Versao do programa identificador de cicatrizes </td> <td> 3.3 </td></tr>\n",
    "<tr><td>n_arq_ant</td> <td> nome do arquivo anterior na comparação dos valores de bandas anteriores à observação considerada </td> <td> LC82210672017173LGN00.tar.gz  </td></tr>\n",
    "<tr><td>ndvi</td> <td> Índice de Vegetação por Dif. Normalizada - formula:(mb5 - mb4) / (mb5 + mb4)</td> <td> 0.178070515394211</td></tr>\n",
    "<tr><td>nbrl</td> <td> Índice de Queimada Normalizada - formula:( mb5-mb7) / (mb5+mb7)</td> <td> 0.07376030087471</td></tr> \n",
    "<tr><td>dif_ndvi</td> <td> diferença entre o valor do ndvi atual e o ndvi da passagem anterior do satélite</td> <td> 0.274306893348694</td></tr>\n",
    "<tr><td>dif_dnbrl</td> <td> diferença entre o valor do ndvi atual e o ndvi da passagem anterior do satélite</td> <td> 0.18055322766304</td></tr>\n",
    "<tr><td>medianb1</td> <td> mediana dos valores da banda 1 para todos os pixels da cicatriz identificada, utilizado no Landsat 7</td> <td> 0.117577269673347</td></tr>\n",
    "<tr><td>medianb2</td> <td> mediana dos valores da banda 2 para todos os pixels da cicatriz identificada</td> <td> 0.117577269673347</td></tr>\n",
    "<tr><td>medianb3</td> <td> mediana dos valores da banda 3 para todos os pixels da cicatriz identificada</td> <td> 0.094903178513051</td></tr>\n",
    "<tr><td>medianb4</td> <td> mediana dos valores da banda 4 para todos os pixels da cicatriz identificada</td> <td> 0.093405835330486</td></tr>\n",
    "<tr><td>medianb5</td> <td> mediana dos valores da banda 5 para todos os pixels da cicatriz identificada</td> <td> 0.131766393780708</td></tr>\n",
    "<tr><td>medianb6</td> <td> mediana dos valores da banda 6 para todos os pixels da cicatriz identificada</td> <td> 0.113180302083492</td></tr>\n",
    "<tr><td>medianb7</td> <td> mediana dos valores da banda 7 para todos os pixels da cicatriz identificada</td> <td> 0.140180051326752</td></tr>\n",
    "<tr><td>verifica</td> <td> resultado de cada um dos métodos de reclassificação</td> <td> 1</td></tr>\n",
    "<tr><td>lim_ndvi</td> <td> Valor limite de ndvi usado para definir mudança em determinada observação </td> <td> 0.2</td></tr>\n",
    "<tr><td>lim_nbrl</td> <td> Valor limite de nbrl usado para definir mudança em determinada observação </td> <td> 0.5</td></tr> \n",
    "<tr><td>fid</td> <td> identificador interno </td> <td> 32574 </td></tr>\n",
    "<tr><td>auditoria</td> <td> resultado da classificação definida por um auditor</td> <td> 1</td></tr>\n",
    "<tr><td>geometry</td> <td> geometria do poligono</td> <td>  polygon (....) </td></tr>\n",
    "</table>\n",
    "\n"
   ]
  },
  {
   "cell_type": "markdown",
   "metadata": {},
   "source": [
    "<h2> Atributos relevantes para cicatrizes </h2>\n",
    "\n",
    "Esses dados foram analisados e, para o processo de classificação são mais relevantes:\n",
    "\n",
    "- area_ha, ndvi, nbrl, dif_ndvi, dif_dnbrl, medianb2, medianb3, medianb4, medianb5, medianb6, medianb7\n",
    "\n",
    "Os atributo 'auditoria' é o atributo objetivo da classificação.\n"
   ]
  },
  {
   "cell_type": "markdown",
   "metadata": {},
   "source": [
    "<h2>Saída resultante da preparação de dados </h2>\n",
    "\n",
    "Para realizar a classificação, são acrescentados os seguintes novos atributos que auxiliam a caracterização das queimadas.\n",
    "\n",
    "<table border=\"1\">\n",
    "<tr><td>adjacentes</td> <td> número de queimadas adjacentes, já validadas, em um período de 64 dias anteriores e considerando um buffer de 220 metros</td> <td> 1</td></tr>\n",
    "<tr><td>focos</td> <td> número focos naquele polígono em um período de 32 dias anteriores e considerando um buffer de aproximadamente 660 metros</td> <td> 1</td></tr>\n",
    "<tr><td>precip</td> <td> valor medio em mm de precipitacao esperado naquela orbita-ponto. Um valor por mês</td> <td> 15,6 </td></tr>\n",
    "</table>\n"
   ]
  },
  {
   "cell_type": "markdown",
   "metadata": {},
   "source": [
    "<h2> Análise geral para Redução da dimensionalidade dos dados </h2>\n",
    "\n",
    "Nesse momento possuimos um grande conjunto de variaveis e necessitamos simplificar o conjunto de atributos sem perder informaçao. \n",
    "\n",
    "Conforme .... \n",
    "\n",
    "Por que diminuir?\n",
    "\n",
    "- auxiliar a compressão e diminuição do espaço de armazenamento.\n",
    "- diminuir o tempo de processamento do conjunto inteiro de dados.\n",
    "- permitir a utilização de algoritmos que não possuem boa resposta para grandes conjuntos de atributos.\n",
    "- permitir montar e visualizar graficos com mais precisao e encontrar padroes mais facilmente\n",
    "- remover sujeiras para melhorar a performance do modelo.\n",
    "\n"
   ]
  }
 ],
 "metadata": {
  "kernelspec": {
   "display_name": "Python 2",
   "language": "python",
   "name": "python2"
  },
  "language_info": {
   "codemirror_mode": {
    "name": "ipython",
    "version": 2
   },
   "file_extension": ".py",
   "mimetype": "text/x-python",
   "name": "python",
   "nbconvert_exporter": "python",
   "pygments_lexer": "ipython2",
   "version": "2.7.15"
  }
 },
 "nbformat": 4,
 "nbformat_minor": 2
}
